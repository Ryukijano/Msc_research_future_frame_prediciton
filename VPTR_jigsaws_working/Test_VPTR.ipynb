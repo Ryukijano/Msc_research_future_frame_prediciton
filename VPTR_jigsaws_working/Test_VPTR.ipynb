{
 "cells": [
  {
   "cell_type": "markdown",
   "metadata": {},
   "source": [
    "### Test the trained VPTR"
   ]
  },
  {
   "cell_type": "code",
   "execution_count": 1,
   "metadata": {},
   "outputs": [
    {
     "name": "stderr",
     "output_type": "stream",
     "text": [
      "c:\\Users\\sc23gd\\.conda\\envs\\VPTR\\Lib\\site-packages\\tqdm\\auto.py:21: TqdmWarning: IProgress not found. Please update jupyter and ipywidgets. See https://ipywidgets.readthedocs.io/en/stable/user_install.html\n",
      "  from .autonotebook import tqdm as notebook_tqdm\n"
     ]
    }
   ],
   "source": [
    "import torch\n",
    "import torch.nn as nn\n",
    "import torch.optim as optim\n",
    "import torchvision.transforms as transforms\n",
    "from torch.utils.data import Dataset, DataLoader, random_split\n",
    "from torch.utils.tensorboard import SummaryWriter\n",
    "import torch.nn.functional as F\n",
    "\n",
    "from pathlib import Path\n",
    "import random\n",
    "from datetime import datetime\n",
    "import time\n",
    "\n",
    "from model import VPTREnc, VPTRDec, VPTRDisc, init_weights, VPTRFormerFAR, VPTRFormerNAR\n",
    "from model import GDL, MSELoss, L1Loss, GANLoss\n",
    "from utils import KTHDataset, BAIRDataset, MovingMNISTDataset\n",
    "from utils import VidCenterCrop, VidPad, VidResize, VidNormalize, VidReNormalize, VidCrop, VidRandomHorizontalFlip, VidRandomVerticalFlip, VidToTensor\n",
    "from utils import visualize_batch_clips, save_ckpt, load_ckpt, set_seed, AverageMeters, init_loss_dict, write_summary, resume_training, write_code_files\n",
    "from utils import set_seed, PSNR, SSIM, MSEScore, get_dataloader\n",
    "import lpips\n",
    "import numpy as np\n",
    "\n",
    "\n",
    "from matplotlib import pyplot as plt\n",
    "\n",
    "set_seed(2021)"
   ]
  },
  {
   "cell_type": "code",
   "execution_count": 2,
   "metadata": {},
   "outputs": [],
   "source": [
    "resume_ckpt = Path(\"C:\\VPTR_jigsaws_modifications\\jigsaws_suturing\\JIGSAWS_NAR_MSEGDLgan_ckpt\\epoch_1058.tar\") #The trained Transformer checkpoint file\n",
    "resume_AE_ckpt = Path('C:\\\\VPTR_jigsaws_modifications\\\\jigsaws_suturing\\\\JIGSAWS_ResNetAE_MSEGDLgan_ckpt\\\\BAIR_AE.tar') #The trained AutoEncoder checkpoint file\n",
    "# Load the checkpoint\n",
    "checkpoint = torch.load(resume_ckpt)\n",
    "num_past_frames = 2\n",
    "num_future_frames = 10\n",
    "encH, encW, encC = 8, 8, 528\n",
    "TSLMA_flag = False\n",
    "rpe = True\n",
    "model_flag = 'NAR' #'NAR' for NAR model, 'FAR' for FAR model\n",
    "\n",
    "img_channels = 3 # 1 for KTH and MovingMNIST, 3 for BAIR\n",
    "N = 32\n",
    "device = torch.device('cuda:0')\n",
    "loss_name_list = ['T_MSE', 'T_GDL', 'T_gan', 'T_total', 'Dtotal', 'Dfake', 'Dreal']"
   ]
  },
  {
   "cell_type": "code",
   "execution_count": null,
   "id": "614381a1",
   "metadata": {},
   "outputs": [],
   "source": []
  },
  {
   "cell_type": "code",
   "execution_count": 3,
   "metadata": {},
   "outputs": [
    {
     "name": "stderr",
     "output_type": "stream",
     "text": [
      "c:\\Users\\sc23gd\\.conda\\envs\\VPTR\\Lib\\site-packages\\torch\\functional.py:512: UserWarning: torch.meshgrid: in an upcoming release, it will be required to pass the indexing argument. (Triggered internally at ..\\aten\\src\\ATen\\native\\TensorShape.cpp:3588.)\n",
      "  return _VF.meshgrid(tensors, **kwargs)  # type: ignore[attr-defined]\n"
     ]
    }
   ],
   "source": [
    "#Set the padding_type to be \"zero\" for BAIR dataset\n",
    "VPTR_Enc = VPTREnc(img_channels, feat_dim = encC, n_downsampling = 3, padding_type = 'zero').to(device) \n",
    "\n",
    "#Set the padding_type to be \"zero\" for BAIR dataset, set the out_layer to be 'Sigmoid' for MovingMNIST\n",
    "VPTR_Dec = VPTRDec(img_channels, feat_dim = encC, n_downsampling = 3, out_layer = 'Tanh', padding_type = 'zero').to(device) \n",
    "VPTR_Enc = VPTR_Enc.eval()\n",
    "VPTR_Dec = VPTR_Dec.eval()\n",
    "\n",
    "if model_flag == 'NAR':\n",
    "    VPTR_Transformer = VPTRFormerNAR(num_past_frames, num_future_frames, encH=encH, encW = encW, d_model=encC, \n",
    "                                         nhead=8, num_encoder_layers=4, num_decoder_layers=8, dropout=0.1, \n",
    "                                         window_size=4, Spatial_FFN_hidden_ratio=4, TSLMA_flag = TSLMA_flag, rpe=rpe).to(device)\n",
    "else:\n",
    "    VPTR_Transformer = VPTRFormerFAR(num_past_frames, num_future_frames, encH=encH, encW = encW, d_model=encC, \n",
    "                                    nhead=16, num_encoder_layers=24, dropout=0.1, \n",
    "                                    window_size=2, Spatial_FFN_hidden_ratio=8, rpe=rpe).to(device)\n",
    "\n",
    "VPTR_Transformer = VPTR_Transformer.eval()\n",
    "\n",
    "#load the trained autoencoder, we initialize the discriminator from scratch, for a balanced training\n",
    "loss_dict, start_epoch = resume_training({'VPTR_Enc': VPTR_Enc, 'VPTR_Dec': VPTR_Dec}, {}, resume_AE_ckpt, loss_name_list)\n",
    "if resume_ckpt is not None:\n",
    "    loss_dict, start_epoch = resume_training({'VPTR_Transformer': VPTR_Transformer}, \n",
    "                                             {}, resume_ckpt, loss_name_list)"
   ]
  },
  {
   "cell_type": "code",
   "execution_count": 4,
   "metadata": {},
   "outputs": [],
   "source": [
    "_, _, test_loader, renorm_transform = get_dataloader('BAIR', N, 'C:\\\\VPTR_jigsaws_working\\\\jigsaws_suturing\\\\bair_format_dir', test_past_frames = 2, test_future_frames = 10, ngpus = 1, num_workers = 0)"
   ]
  },
  {
   "cell_type": "code",
   "execution_count": 5,
   "id": "746955a4",
   "metadata": {},
   "outputs": [
    {
     "name": "stdout",
     "output_type": "stream",
     "text": [
      "torch.Size([32, 2, 3, 64, 64])\n"
     ]
    }
   ],
   "source": [
    "# Get a batch of images from the test_loader\n",
    "images, _ = next(iter(test_loader))\n",
    "\n",
    "# Print the shape of the images\n",
    "print(images.shape)"
   ]
  },
  {
   "cell_type": "code",
   "execution_count": 6,
   "id": "2ecbf462",
   "metadata": {},
   "outputs": [
    {
     "name": "stdout",
     "output_type": "stream",
     "text": [
      "torch.Size([2, 3, 64, 64])\n"
     ]
    }
   ],
   "source": [
    "# Get the first image in the batch\n",
    "image = images[0]\n",
    "\n",
    "# Print the shape of the individual image\n",
    "print(image.shape)"
   ]
  },
  {
   "cell_type": "code",
   "execution_count": 7,
   "metadata": {},
   "outputs": [],
   "source": [
    "def plot_model_result(pred, fig_name, num_frames, n = 2):\n",
    "    \"\"\"\n",
    "    Plot and save figure\n",
    "    \"\"\"\n",
    "    fig, ax = plt.subplots(1, num_frames, figsize = (num_frames, 1))\n",
    "    fig.subplots_adjust(wspace=0., hspace = 0.)\n",
    "\n",
    "    for j in range(num_frames):\n",
    "        ax[j].set_axis_off()\n",
    "        \n",
    "        img = pred[:, j, :, :, :].clone()\n",
    "        img = renorm_transform(img)\n",
    "        img = torch.clamp(img, min = 0., max = 1.)\n",
    "        img = img[n, ...]\n",
    "\n",
    "        img = transforms.ToPILImage()(img)\n",
    "        ax[j].imshow(img, cmap = 'gray')\n",
    "    fig.savefig(f'{fig_name}.pdf', bbox_inches = 'tight')\n",
    "    \n",
    "def FAR_RIL_test_single_iter(sample, VPTR_Enc, VPTR_Dec, VPTR_Transformer, num_pred, device):\n",
    "    \"\"\"\n",
    "    recurrently inference over Latent space, get a worse result\n",
    "    \"\"\"\n",
    "    past_frames, future_frames = sample\n",
    "    past_frames = past_frames.to(device)\n",
    "    future_frames = future_frames.to(device)\n",
    "    assert num_pred == future_frames.shape[1], \"Mismatch between ground truth future frames length and num_pred\"\n",
    "\n",
    "    past_gt_feats = VPTR_Enc(past_frames)\n",
    "    pred_feats = VPTR_Transformer(past_gt_feats)\n",
    "    \n",
    "    pred_frames = VPTR_Dec(pred_feats[:, -1:, ...])\n",
    "    for i in range(1, num_pred):\n",
    "        if i == 1:\n",
    "            input_feats = torch.cat([past_gt_feats, pred_feats[:, -1:, ...]], dim = 1)\n",
    "        elif i < VPTR_Transformer.num_future_frames:\n",
    "            input_feats = torch.cat([input_feats, pred_future_feat], dim = 1)\n",
    "        else:\n",
    "            input_feats = torch.cat([input_feats, pred_future_feat], dim = 1)\n",
    "            input_feats = input_feats[:, 1:, ...]\n",
    "        \n",
    "        pred_feats = VPTR_Transformer(input_feats)\n",
    "        pred_future_frame = VPTR_Dec(pred_feats[:, -1:, ...])\n",
    "        pred_future_feat = pred_feats[:, -1:, ...]\n",
    "        pred_frames = torch.cat([pred_frames, pred_future_frame], dim = 1)\n",
    "    \n",
    "    return pred_frames, future_frames\n",
    "\n",
    "def FAR_RIP_test_single_iter(sample, VPTR_Enc, VPTR_Dec, VPTR_Transformer, num_pred, device):\n",
    "    \"\"\"\n",
    "    recurrently inference over pixel space\n",
    "    \"\"\"\n",
    "    past_frames, future_frames = sample\n",
    "    past_frames = past_frames.to(device)\n",
    "    future_frames = future_frames.to(device)\n",
    "    assert num_pred == future_frames.shape[1], \"Mismatch between ground truth future frames length and num_pred\"\n",
    "\n",
    "    past_gt_feats = VPTR_Enc(past_frames)\n",
    "    pred_feats = VPTR_Transformer(past_gt_feats)\n",
    "    \n",
    "    pred_frames = VPTR_Dec(pred_feats[:, -1:, ...])\n",
    "    for i in range(1, num_pred):\n",
    "        if i == 1:\n",
    "            input_feats = torch.cat([past_gt_feats, pred_feats[:, -1:, ...]], dim = 1)\n",
    "        elif i < VPTR_Transformer.num_future_frames:\n",
    "            input_feats = torch.cat([input_feats, pred_future_feat], dim = 1)\n",
    "        else:\n",
    "            input_feats = torch.cat([input_feats, pred_future_feat], dim = 1)\n",
    "            input_feats = input_feats[:, 1:, ...]\n",
    "        \n",
    "        pred_feats = VPTR_Transformer(input_feats)\n",
    "        pred_future_frame = VPTR_Dec(pred_feats[:, -1:, ...])\n",
    "        pred_future_feat = VPTR_Enc(pred_future_frame)\n",
    "        pred_frames = torch.cat([pred_frames, pred_future_frame], dim = 1)\n",
    "    \n",
    "    return pred_frames, future_frames\n",
    "\n",
    "def NAR_test_single_iter(sample, VPTR_Enc, VPTR_Dec, VPTR_Transformer, num_pred, device):\n",
    "    \"\"\"\n",
    "    NAR model inference function, for the case num_pred is divisible for the num_future_frames of training. e.g. num_pred = 20, num_future_frames = 10\n",
    "    \"\"\"\n",
    "    past_frames, future_frames = sample\n",
    "    past_frames = past_frames.to(device)\n",
    "    future_frames = future_frames.to(device)\n",
    "    assert num_pred == future_frames.shape[1], \"Mismatch between ground truth future frames length and num_pred\"\n",
    "    assert num_pred % VPTR_Transformer.num_future_frames == 0, \"Mismatch of num_pred and trained Transformer\"\n",
    "    \n",
    "    past_gt_feats = VPTR_Enc(past_frames)\n",
    "    \n",
    "    for i in range(0, num_pred//VPTR_Transformer.num_future_frames):\n",
    "        pred_future_feats = VPTR_Transformer(past_gt_feats)\n",
    "        if i == 0:\n",
    "            pred_frames = VPTR_Dec(pred_future_feats)\n",
    "        else:\n",
    "            pred_frames = torch.cat([pred_frames, VPTR_Dec(pred_future_feats)], dim = 1)\n",
    "        past_gt_feats = pred_future_feats\n",
    "        \n",
    "    \n",
    "    return pred_frames, future_frames\n",
    "\n",
    "\n",
    "def NAR_BAIR_2_to_28_test_single_iter(sample, VPTR_Enc, VPTR_Dec, VPTR_Transformer, num_pred, device):\n",
    "    \"\"\"\n",
    "    Specifically for BAIR dataset, 2 -> 28 prediction.\n",
    "    \"\"\"\n",
    "    past_frames, future_frames = sample\n",
    "    past_frames = past_frames.to(device)\n",
    "    future_frames = future_frames.to(device)\n",
    "    assert num_pred == future_frames.shape[1], \"Mismatch between ground truth future frames length and num_pred\"\n",
    "    #assert num_pred % VPTR_Transformer.num_future_frames == 0, \"Mismatch of num_pred and trained Transformer\"\n",
    "    \n",
    "    pred = []\n",
    "    #prediction 1\n",
    "    past_gt_feats = VPTR_Enc(past_frames)\n",
    "    pred_future_feats = VPTR_Transformer(past_gt_feats)\n",
    "    pred_frames = VPTR_Dec(pred_future_feats)\n",
    "    pred.append(pred_frames)\n",
    "    #prediction 2\n",
    "    past_frames = pred_frames[:, -2:, ...]\n",
    "    past_gt_feats = VPTR_Enc(past_frames)\n",
    "    pred_future_feats = VPTR_Transformer(past_gt_feats)\n",
    "    pred_frames = VPTR_Dec(pred_future_feats)\n",
    "    pred.append(pred_frames)\n",
    "    \n",
    "    #prediction 3\n",
    "    past_frames = pred_frames[:, -2:, ...]\n",
    "    past_gt_feats = VPTR_Enc(past_frames)\n",
    "    pred_future_feats = VPTR_Transformer(past_gt_feats)\n",
    "    pred_frames = VPTR_Dec(pred_future_feats)\n",
    "    pred.append(pred_frames[:, 0:-2, ...])\n",
    "    pred_frames = torch.cat(pred, dim = 1)\n",
    "    \n",
    "    return pred_frames, future_frames         "
   ]
  },
  {
   "cell_type": "code",
   "execution_count": 8,
   "metadata": {},
   "outputs": [
    {
     "name": "stdout",
     "output_type": "stream",
     "text": [
      "future_frames.shape: torch.Size([32, 10, 3, 64, 64])\n"
     ]
    }
   ],
   "source": [
    "sample = next(iter(test_loader))\n",
    "num_pred = 10\n",
    "with torch.no_grad():\n",
    "    past_frames, future_frames = sample\n",
    "    print(f\"future_frames.shape: {future_frames.shape}\")\n",
    "    pred_frames, gt_frames = NAR_test_single_iter(sample, VPTR_Enc, VPTR_Dec, VPTR_Transformer, num_pred, device)"
   ]
  },
  {
   "cell_type": "code",
   "execution_count": 26,
   "metadata": {},
   "outputs": [],
   "source": [
    "# sample = next(iter(test_loader))\n",
    "# num_pred = 10\n",
    "# with torch.no_grad():\n",
    "#     pred_frames, gt_frames = NAR_test_single_iter(sample, VPTR_Enc, VPTR_Dec, VPTR_Transformer, num_pred, device)\n"
   ]
  },
  {
   "cell_type": "code",
   "execution_count": 9,
   "metadata": {},
   "outputs": [
    {
     "data": {
      "image/png": "[encoded data removed]",
      "text/plain": [
       "<Figure size 1000x100 with 10 Axes>"
      ]
     },
     "metadata": {},
     "output_type": "display_data"
    }
   ],
   "source": [
    "plot_model_result(pred_frames, 'pred_nar_bair', 10, n = 5)"
   ]
  },
  {
   "cell_type": "code",
   "execution_count": 10,
   "metadata": {},
   "outputs": [
    {
     "data": {
      "image/png": "[encoded data removed]",
      "text/plain": [
       "<Figure size 1000x100 with 10 Axes>"
      ]
     },
     "metadata": {},
     "output_type": "display_data"
    }
   ],
   "source": [
    "plot_model_result(gt_frames, 'gt_bair', 10, n = 5)"
   ]
  },
  {
   "cell_type": "code",
   "execution_count": 11,
   "id": "44b27906",
   "metadata": {},
   "outputs": [],
   "source": [
    "# Create the complete model for metric evaluation\n",
    "model = nn.Sequential(VPTR_Enc, VPTR_Transformer, VPTR_Dec)"
   ]
  },
  {
   "cell_type": "code",
   "execution_count": 12,
   "id": "21d0e8a5",
   "metadata": {},
   "outputs": [],
   "source": [
    "import numpy as np\n",
    "from utils import PSNR, SSIM\n",
    "import lpips\n",
    "from tqdm import tqdm \n",
    "\n",
    "def pred_ave_metrics(model, data_loader, renorm_transform, num_future_frames, num_past_frames, device='cuda:0'): \n",
    "    model = model.to(device)\n",
    "    model = model.eval()\n",
    "    ave_psnr = np.zeros(num_future_frames)\n",
    "    ave_ssim = np.zeros(num_future_frames) \n",
    "    ave_lpips = np.zeros(num_future_frames) \n",
    "    sample_num = 0\n",
    "\n",
    "    loss_fn_alex = lpips.LPIPS(net='alex').to(device) # Initialize LPIPS model\n",
    "\n",
    "    with torch.no_grad():\n",
    "        for idx, sample in enumerate(tqdm(data_loader), 0):\n",
    "            past_frames, future_frames = sample\n",
    "            past_frames = past_frames.to(device)\n",
    "            future_frames = future_frames.to(device)\n",
    "            pred = model(past_frames)\n",
    "\n",
    "            # Calculate PSNR\n",
    "            for i in range(0, num_future_frames):\n",
    "                pred_t = pred[:, i, ...]\n",
    "                future_frames_t = future_frames[:, i, ...]\n",
    "\n",
    "                pred_t = renorm_transform(pred_t)\n",
    "                future_frames_t = renorm_transform(future_frames_t)\n",
    "\n",
    "                ave_psnr[i] += PSNR(pred_t, future_frames_t) * pred_t.shape[0]\n",
    "\n",
    "            # Calculate SSIM\n",
    "            for i in range(0, num_future_frames):\n",
    "                pred_t = pred[:, i, ...]\n",
    "                future_frames_t = future_frames[:, i, ...]\n",
    "\n",
    "                pred_t = renorm_transform(pred_t)\n",
    "                future_frames_t = renorm_transform(future_frames_t)\n",
    "\n",
    "                ave_ssim[i] += SSIM(pred_t, future_frames_t) * pred_t.shape[0]\n",
    "\n",
    "            # Calculate LPIPS\n",
    "            for i in range(0, num_future_frames):\n",
    "                pred_t = pred[:, i, ...]\n",
    "                future_frames_t = future_frames[:, i, ...]\n",
    "\n",
    "                # LPIPS expects 3-channel images\n",
    "                if pred_t.shape[1] == 1:  # If grayscale, repeat channels\n",
    "                    pred_t = pred_t.repeat(1, 3, 1, 1)\n",
    "                    future_frames_t = future_frames_t.repeat(1, 3, 1, 1) \n",
    "                \n",
    "                ave_lpips[i] += loss_fn_alex(pred_t, future_frames_t).mean().item() * pred_t.shape[0]\n",
    "\n",
    "            sample_num += pred.shape[0]\n",
    "\n",
    "    ave_psnr = ave_psnr / sample_num\n",
    "    ave_ssim = ave_ssim / sample_num\n",
    "    ave_lpips = ave_lpips / sample_num\n",
    "    return ave_psnr, ave_ssim, ave_lpips  # Return all three metrics"
   ]
  },
  {
   "cell_type": "code",
   "execution_count": 36,
   "id": "bbdcf35b",
   "metadata": {},
   "outputs": [
    {
     "name": "stderr",
     "output_type": "stream",
     "text": [
      "  0%|          | 0/43 [00:00<?, ?it/s]"
     ]
    },
    {
     "name": "stdout",
     "output_type": "stream",
     "text": [
      "Prediction shape: torch.Size([32, 10, 3, 64, 64])\n"
     ]
    },
    {
     "name": "stderr",
     "output_type": "stream",
     "text": [
      "  2%|▏         | 1/43 [00:01<00:52,  1.25s/it]"
     ]
    },
    {
     "name": "stdout",
     "output_type": "stream",
     "text": [
      "Prediction shape: torch.Size([32, 10, 3, 64, 64])\n"
     ]
    },
    {
     "name": "stderr",
     "output_type": "stream",
     "text": [
      "  5%|▍         | 2/43 [00:02<00:48,  1.19s/it]"
     ]
    },
    {
     "name": "stdout",
     "output_type": "stream",
     "text": [
      "Prediction shape: torch.Size([32, 10, 3, 64, 64])\n"
     ]
    },
    {
     "name": "stderr",
     "output_type": "stream",
     "text": [
      "  7%|▋         | 3/43 [00:03<00:46,  1.16s/it]"
     ]
    },
    {
     "name": "stdout",
     "output_type": "stream",
     "text": [
      "Prediction shape: torch.Size([32, 10, 3, 64, 64])\n"
     ]
    },
    {
     "name": "stderr",
     "output_type": "stream",
     "text": [
      "  9%|▉         | 4/43 [00:04<00:44,  1.14s/it]"
     ]
    },
    {
     "name": "stdout",
     "output_type": "stream",
     "text": [
      "Prediction shape: torch.Size([32, 10, 3, 64, 64])\n"
     ]
    },
    {
     "name": "stderr",
     "output_type": "stream",
     "text": [
      " 12%|█▏        | 5/43 [00:05<00:42,  1.13s/it]"
     ]
    },
    {
     "name": "stdout",
     "output_type": "stream",
     "text": [
      "Prediction shape: torch.Size([32, 10, 3, 64, 64])\n"
     ]
    },
    {
     "name": "stderr",
     "output_type": "stream",
     "text": [
      " 14%|█▍        | 6/43 [00:06<00:41,  1.12s/it]"
     ]
    },
    {
     "name": "stdout",
     "output_type": "stream",
     "text": [
      "Prediction shape: torch.Size([32, 10, 3, 64, 64])\n"
     ]
    },
    {
     "name": "stderr",
     "output_type": "stream",
     "text": [
      " 16%|█▋        | 7/43 [00:07<00:40,  1.11s/it]"
     ]
    },
    {
     "name": "stdout",
     "output_type": "stream",
     "text": [
      "Prediction shape: torch.Size([32, 10, 3, 64, 64])\n"
     ]
    },
    {
     "name": "stderr",
     "output_type": "stream",
     "text": [
      " 19%|█▊        | 8/43 [00:09<00:38,  1.10s/it]"
     ]
    },
    {
     "name": "stdout",
     "output_type": "stream",
     "text": [
      "Prediction shape: torch.Size([32, 10, 3, 64, 64])\n"
     ]
    },
    {
     "name": "stderr",
     "output_type": "stream",
     "text": [
      " 21%|██        | 9/43 [00:10<00:37,  1.11s/it]"
     ]
    },
    {
     "name": "stdout",
     "output_type": "stream",
     "text": [
      "Prediction shape: torch.Size([32, 10, 3, 64, 64])\n"
     ]
    },
    {
     "name": "stderr",
     "output_type": "stream",
     "text": [
      " 23%|██▎       | 10/43 [00:11<00:36,  1.12s/it]"
     ]
    },
    {
     "name": "stdout",
     "output_type": "stream",
     "text": [
      "Prediction shape: torch.Size([32, 10, 3, 64, 64])\n"
     ]
    },
    {
     "name": "stderr",
     "output_type": "stream",
     "text": [
      " 26%|██▌       | 11/43 [00:12<00:35,  1.11s/it]"
     ]
    },
    {
     "name": "stdout",
     "output_type": "stream",
     "text": [
      "Prediction shape: torch.Size([32, 10, 3, 64, 64])\n"
     ]
    },
    {
     "name": "stderr",
     "output_type": "stream",
     "text": [
      " 28%|██▊       | 12/43 [00:13<00:34,  1.12s/it]"
     ]
    },
    {
     "name": "stdout",
     "output_type": "stream",
     "text": [
      "Prediction shape: torch.Size([32, 10, 3, 64, 64])\n"
     ]
    },
    {
     "name": "stderr",
     "output_type": "stream",
     "text": [
      " 30%|███       | 13/43 [00:14<00:33,  1.11s/it]"
     ]
    },
    {
     "name": "stdout",
     "output_type": "stream",
     "text": [
      "Prediction shape: torch.Size([32, 10, 3, 64, 64])\n"
     ]
    },
    {
     "name": "stderr",
     "output_type": "stream",
     "text": [
      " 33%|███▎      | 14/43 [00:15<00:32,  1.12s/it]"
     ]
    },
    {
     "name": "stdout",
     "output_type": "stream",
     "text": [
      "Prediction shape: torch.Size([32, 10, 3, 64, 64])\n"
     ]
    },
    {
     "name": "stderr",
     "output_type": "stream",
     "text": [
      " 35%|███▍      | 15/43 [00:16<00:31,  1.11s/it]"
     ]
    },
    {
     "name": "stdout",
     "output_type": "stream",
     "text": [
      "Prediction shape: torch.Size([32, 10, 3, 64, 64])\n"
     ]
    },
    {
     "name": "stderr",
     "output_type": "stream",
     "text": [
      " 37%|███▋      | 16/43 [00:17<00:30,  1.11s/it]"
     ]
    },
    {
     "name": "stdout",
     "output_type": "stream",
     "text": [
      "Prediction shape: torch.Size([32, 10, 3, 64, 64])\n"
     ]
    },
    {
     "name": "stderr",
     "output_type": "stream",
     "text": [
      " 40%|███▉      | 17/43 [00:19<00:29,  1.12s/it]"
     ]
    },
    {
     "name": "stdout",
     "output_type": "stream",
     "text": [
      "Prediction shape: torch.Size([32, 10, 3, 64, 64])\n"
     ]
    },
    {
     "name": "stderr",
     "output_type": "stream",
     "text": [
      " 42%|████▏     | 18/43 [00:20<00:27,  1.11s/it]"
     ]
    },
    {
     "name": "stdout",
     "output_type": "stream",
     "text": [
      "Prediction shape: torch.Size([32, 10, 3, 64, 64])\n"
     ]
    },
    {
     "name": "stderr",
     "output_type": "stream",
     "text": [
      " 44%|████▍     | 19/43 [00:21<00:27,  1.13s/it]"
     ]
    },
    {
     "name": "stdout",
     "output_type": "stream",
     "text": [
      "Prediction shape: torch.Size([32, 10, 3, 64, 64])\n"
     ]
    },
    {
     "name": "stderr",
     "output_type": "stream",
     "text": [
      " 47%|████▋     | 20/43 [00:22<00:28,  1.22s/it]"
     ]
    },
    {
     "name": "stdout",
     "output_type": "stream",
     "text": [
      "Prediction shape: torch.Size([32, 10, 3, 64, 64])\n"
     ]
    },
    {
     "name": "stderr",
     "output_type": "stream",
     "text": [
      " 49%|████▉     | 21/43 [00:24<00:29,  1.36s/it]"
     ]
    },
    {
     "name": "stdout",
     "output_type": "stream",
     "text": [
      "Prediction shape: torch.Size([32, 10, 3, 64, 64])\n"
     ]
    },
    {
     "name": "stderr",
     "output_type": "stream",
     "text": [
      " 51%|█████     | 22/43 [00:25<00:26,  1.28s/it]"
     ]
    },
    {
     "name": "stdout",
     "output_type": "stream",
     "text": [
      "Prediction shape: torch.Size([32, 10, 3, 64, 64])\n"
     ]
    },
    {
     "name": "stderr",
     "output_type": "stream",
     "text": [
      " 53%|█████▎    | 23/43 [00:26<00:24,  1.23s/it]"
     ]
    },
    {
     "name": "stdout",
     "output_type": "stream",
     "text": [
      "Prediction shape: torch.Size([32, 10, 3, 64, 64])\n"
     ]
    },
    {
     "name": "stderr",
     "output_type": "stream",
     "text": [
      " 56%|█████▌    | 24/43 [00:27<00:22,  1.19s/it]"
     ]
    },
    {
     "name": "stdout",
     "output_type": "stream",
     "text": [
      "Prediction shape: torch.Size([32, 10, 3, 64, 64])\n"
     ]
    },
    {
     "name": "stderr",
     "output_type": "stream",
     "text": [
      " 58%|█████▊    | 25/43 [00:28<00:21,  1.17s/it]"
     ]
    },
    {
     "name": "stdout",
     "output_type": "stream",
     "text": [
      "Prediction shape: torch.Size([32, 10, 3, 64, 64])\n"
     ]
    },
    {
     "name": "stderr",
     "output_type": "stream",
     "text": [
      " 60%|██████    | 26/43 [00:29<00:19,  1.15s/it]"
     ]
    },
    {
     "name": "stdout",
     "output_type": "stream",
     "text": [
      "Prediction shape: torch.Size([32, 10, 3, 64, 64])\n"
     ]
    },
    {
     "name": "stderr",
     "output_type": "stream",
     "text": [
      " 63%|██████▎   | 27/43 [00:31<00:18,  1.15s/it]"
     ]
    },
    {
     "name": "stdout",
     "output_type": "stream",
     "text": [
      "Prediction shape: torch.Size([32, 10, 3, 64, 64])\n"
     ]
    },
    {
     "name": "stderr",
     "output_type": "stream",
     "text": [
      " 65%|██████▌   | 28/43 [00:32<00:17,  1.15s/it]"
     ]
    },
    {
     "name": "stdout",
     "output_type": "stream",
     "text": [
      "Prediction shape: torch.Size([32, 10, 3, 64, 64])\n"
     ]
    },
    {
     "name": "stderr",
     "output_type": "stream",
     "text": [
      " 67%|██████▋   | 29/43 [00:33<00:16,  1.16s/it]"
     ]
    },
    {
     "name": "stdout",
     "output_type": "stream",
     "text": [
      "Prediction shape: torch.Size([32, 10, 3, 64, 64])\n"
     ]
    },
    {
     "name": "stderr",
     "output_type": "stream",
     "text": [
      " 70%|██████▉   | 30/43 [00:35<00:17,  1.36s/it]"
     ]
    },
    {
     "name": "stdout",
     "output_type": "stream",
     "text": [
      "Prediction shape: torch.Size([32, 10, 3, 64, 64])\n"
     ]
    },
    {
     "name": "stderr",
     "output_type": "stream",
     "text": [
      " 72%|███████▏  | 31/43 [00:36<00:15,  1.29s/it]"
     ]
    },
    {
     "name": "stdout",
     "output_type": "stream",
     "text": [
      "Prediction shape: torch.Size([32, 10, 3, 64, 64])\n"
     ]
    },
    {
     "name": "stderr",
     "output_type": "stream",
     "text": [
      " 74%|███████▍  | 32/43 [00:37<00:13,  1.24s/it]"
     ]
    },
    {
     "name": "stdout",
     "output_type": "stream",
     "text": [
      "Prediction shape: torch.Size([32, 10, 3, 64, 64])\n"
     ]
    },
    {
     "name": "stderr",
     "output_type": "stream",
     "text": [
      " 77%|███████▋  | 33/43 [00:38<00:12,  1.21s/it]"
     ]
    },
    {
     "name": "stdout",
     "output_type": "stream",
     "text": [
      "Prediction shape: torch.Size([32, 10, 3, 64, 64])\n"
     ]
    },
    {
     "name": "stderr",
     "output_type": "stream",
     "text": [
      " 79%|███████▉  | 34/43 [00:39<00:10,  1.19s/it]"
     ]
    },
    {
     "name": "stdout",
     "output_type": "stream",
     "text": [
      "Prediction shape: torch.Size([32, 10, 3, 64, 64])\n"
     ]
    },
    {
     "name": "stderr",
     "output_type": "stream",
     "text": [
      " 81%|████████▏ | 35/43 [00:40<00:09,  1.17s/it]"
     ]
    },
    {
     "name": "stdout",
     "output_type": "stream",
     "text": [
      "Prediction shape: torch.Size([32, 10, 3, 64, 64])\n"
     ]
    },
    {
     "name": "stderr",
     "output_type": "stream",
     "text": [
      " 84%|████████▎ | 36/43 [00:42<00:08,  1.16s/it]"
     ]
    },
    {
     "name": "stdout",
     "output_type": "stream",
     "text": [
      "Prediction shape: torch.Size([32, 10, 3, 64, 64])\n"
     ]
    },
    {
     "name": "stderr",
     "output_type": "stream",
     "text": [
      " 86%|████████▌ | 37/43 [00:43<00:06,  1.15s/it]"
     ]
    },
    {
     "name": "stdout",
     "output_type": "stream",
     "text": [
      "Prediction shape: torch.Size([32, 10, 3, 64, 64])\n"
     ]
    },
    {
     "name": "stderr",
     "output_type": "stream",
     "text": [
      " 88%|████████▊ | 38/43 [00:44<00:05,  1.15s/it]"
     ]
    },
    {
     "name": "stdout",
     "output_type": "stream",
     "text": [
      "Prediction shape: torch.Size([32, 10, 3, 64, 64])\n"
     ]
    },
    {
     "name": "stderr",
     "output_type": "stream",
     "text": [
      " 91%|█████████ | 39/43 [00:45<00:04,  1.14s/it]"
     ]
    },
    {
     "name": "stdout",
     "output_type": "stream",
     "text": [
      "Prediction shape: torch.Size([32, 10, 3, 64, 64])\n"
     ]
    },
    {
     "name": "stderr",
     "output_type": "stream",
     "text": [
      " 93%|█████████▎| 40/43 [00:46<00:03,  1.14s/it]"
     ]
    },
    {
     "name": "stdout",
     "output_type": "stream",
     "text": [
      "Prediction shape: torch.Size([32, 10, 3, 64, 64])\n"
     ]
    },
    {
     "name": "stderr",
     "output_type": "stream",
     "text": [
      " 95%|█████████▌| 41/43 [00:47<00:02,  1.14s/it]"
     ]
    },
    {
     "name": "stdout",
     "output_type": "stream",
     "text": [
      "Prediction shape: torch.Size([32, 10, 3, 64, 64])\n"
     ]
    },
    {
     "name": "stderr",
     "output_type": "stream",
     "text": [
      " 98%|█████████▊| 42/43 [00:48<00:01,  1.12s/it]"
     ]
    },
    {
     "name": "stdout",
     "output_type": "stream",
     "text": [
      "Prediction shape: torch.Size([22, 10, 3, 64, 64])\n"
     ]
    },
    {
     "name": "stderr",
     "output_type": "stream",
     "text": [
      "100%|██████████| 43/43 [00:49<00:00,  1.15s/it]\n"
     ]
    },
    {
     "data": {
      "image/png": "[encoded data removed]",
      "text/plain": [
       "<Figure size 640x480 with 1 Axes>"
      ]
     },
     "metadata": {},
     "output_type": "display_data"
    }
   ],
   "source": [
    "import numpy as np\n",
    "from skimage.metrics import structural_similarity as ssim\n",
    "import torch\n",
    "from tqdm import tqdm\n",
    "import matplotlib.pyplot as plt\n",
    "\n",
    "def calculate_average_ssim(model, data_loader, renorm_transform, num_future_frames, device='cuda:0'):\n",
    "    model = model.to(device)\n",
    "    model = model.eval()\n",
    "    ave_ssim = np.zeros(num_future_frames)\n",
    "    sample_num = 0\n",
    "\n",
    "    with torch.no_grad():\n",
    "        for idx, sample in enumerate(tqdm(data_loader), 0):\n",
    "            past_frames, future_frames = sample\n",
    "            past_frames = past_frames.to(device)\n",
    "            future_frames = future_frames.to(device)\n",
    "            pred = model(past_frames)\n",
    "            print(f\"Prediction shape: {pred.shape}\")  # Debug\n",
    "            for i in range(0, num_future_frames):\n",
    "                pred_t = pred[:, i, ...]\n",
    "                future_frames_t = future_frames[:, i, ...]\n",
    "\n",
    "                pred_t = renorm_transform(pred_t)\n",
    "                future_frames_t = renorm_transform(future_frames_t)\n",
    "\n",
    "                ssim_value = ssim(pred_t.cpu().numpy(), future_frames_t.cpu().numpy(), win_size=3, multichannel=True, data_range=1.0, channel_axis=0)\n",
    "                ave_ssim[i] += ssim_value * pred_t.shape[0]\n",
    "\n",
    "            sample_num += pred.shape[0]\n",
    "\n",
    "    ave_ssim = ave_ssim / sample_num\n",
    "    return ave_ssim\n",
    "\n",
    "num_future_frames = 10  # Adjusted to match model output\n",
    "\n",
    "# Assuming you have a test_loader and renorm_transform defined\n",
    "average_ssim = calculate_average_ssim(\n",
    "    model=model,\n",
    "    data_loader=test_loader,\n",
    "    renorm_transform=renorm_transform,\n",
    "    num_future_frames=num_future_frames,  # Adjusted to match model output\n",
    "    device='cuda:0'\n",
    ")\n",
    "\n",
    "# Plot SSIM results for the time steps 2 to 10\n",
    "time_steps = np.arange(2, 11)  # Time steps from 2 to 10\n",
    "plt.plot(time_steps, average_ssim[1:10], marker='*', linestyle='-', color='b', label='SSIM') # <--- Slice average_ssim to 9 values\n",
    "plt.xlabel('Time Step')\n",
    "plt.ylabel('Average SSIM')\n",
    "plt.title('Average SSIM over Time Steps')\n",
    "plt.ylim([0.6, 1.0]) \n",
    "plt.grid(True)\n",
    "plt.legend()\n",
    "plt.show()"
   ]
  },
  {
   "cell_type": "code",
   "execution_count": 14,
   "id": "5414d142",
   "metadata": {},
   "outputs": [
    {
     "name": "stderr",
     "output_type": "stream",
     "text": [
      "  0%|          | 0/43 [00:00<?, ?it/s]"
     ]
    },
    {
     "name": "stdout",
     "output_type": "stream",
     "text": [
      "Prediction shape: torch.Size([32, 10, 3, 64, 64])\n"
     ]
    },
    {
     "name": "stderr",
     "output_type": "stream",
     "text": [
      "  2%|▏         | 1/43 [00:01<00:49,  1.18s/it]"
     ]
    },
    {
     "name": "stdout",
     "output_type": "stream",
     "text": [
      "Prediction shape: torch.Size([32, 10, 3, 64, 64])\n"
     ]
    },
    {
     "name": "stderr",
     "output_type": "stream",
     "text": [
      "  5%|▍         | 2/43 [00:02<00:47,  1.16s/it]"
     ]
    },
    {
     "name": "stdout",
     "output_type": "stream",
     "text": [
      "Prediction shape: torch.Size([32, 10, 3, 64, 64])\n"
     ]
    },
    {
     "name": "stderr",
     "output_type": "stream",
     "text": [
      "  7%|▋         | 3/43 [00:03<00:46,  1.17s/it]"
     ]
    },
    {
     "name": "stdout",
     "output_type": "stream",
     "text": [
      "Prediction shape: torch.Size([32, 10, 3, 64, 64])\n"
     ]
    },
    {
     "name": "stderr",
     "output_type": "stream",
     "text": [
      "  9%|▉         | 4/43 [00:04<00:45,  1.17s/it]"
     ]
    },
    {
     "name": "stdout",
     "output_type": "stream",
     "text": [
      "Prediction shape: torch.Size([32, 10, 3, 64, 64])\n"
     ]
    },
    {
     "name": "stderr",
     "output_type": "stream",
     "text": [
      " 12%|█▏        | 5/43 [00:05<00:44,  1.16s/it]"
     ]
    },
    {
     "name": "stdout",
     "output_type": "stream",
     "text": [
      "Prediction shape: torch.Size([32, 10, 3, 64, 64])\n"
     ]
    },
    {
     "name": "stderr",
     "output_type": "stream",
     "text": [
      " 14%|█▍        | 6/43 [00:06<00:42,  1.15s/it]"
     ]
    },
    {
     "name": "stdout",
     "output_type": "stream",
     "text": [
      "Prediction shape: torch.Size([32, 10, 3, 64, 64])\n"
     ]
    },
    {
     "name": "stderr",
     "output_type": "stream",
     "text": [
      " 16%|█▋        | 7/43 [00:08<00:41,  1.15s/it]"
     ]
    },
    {
     "name": "stdout",
     "output_type": "stream",
     "text": [
      "Prediction shape: torch.Size([32, 10, 3, 64, 64])\n"
     ]
    },
    {
     "name": "stderr",
     "output_type": "stream",
     "text": [
      " 19%|█▊        | 8/43 [00:09<00:40,  1.15s/it]"
     ]
    },
    {
     "name": "stdout",
     "output_type": "stream",
     "text": [
      "Prediction shape: torch.Size([32, 10, 3, 64, 64])\n"
     ]
    },
    {
     "name": "stderr",
     "output_type": "stream",
     "text": [
      " 21%|██        | 9/43 [00:10<00:38,  1.14s/it]"
     ]
    },
    {
     "name": "stdout",
     "output_type": "stream",
     "text": [
      "Prediction shape: torch.Size([32, 10, 3, 64, 64])\n"
     ]
    },
    {
     "name": "stderr",
     "output_type": "stream",
     "text": [
      " 23%|██▎       | 10/43 [00:11<00:37,  1.14s/it]"
     ]
    },
    {
     "name": "stdout",
     "output_type": "stream",
     "text": [
      "Prediction shape: torch.Size([32, 10, 3, 64, 64])\n"
     ]
    },
    {
     "name": "stderr",
     "output_type": "stream",
     "text": [
      " 26%|██▌       | 11/43 [00:12<00:36,  1.15s/it]"
     ]
    },
    {
     "name": "stdout",
     "output_type": "stream",
     "text": [
      "Prediction shape: torch.Size([32, 10, 3, 64, 64])\n"
     ]
    },
    {
     "name": "stderr",
     "output_type": "stream",
     "text": [
      " 28%|██▊       | 12/43 [00:13<00:35,  1.16s/it]"
     ]
    },
    {
     "name": "stdout",
     "output_type": "stream",
     "text": [
      "Prediction shape: torch.Size([32, 10, 3, 64, 64])\n"
     ]
    },
    {
     "name": "stderr",
     "output_type": "stream",
     "text": [
      " 30%|███       | 13/43 [00:14<00:34,  1.15s/it]"
     ]
    },
    {
     "name": "stdout",
     "output_type": "stream",
     "text": [
      "Prediction shape: torch.Size([32, 10, 3, 64, 64])\n"
     ]
    },
    {
     "name": "stderr",
     "output_type": "stream",
     "text": [
      " 33%|███▎      | 14/43 [00:16<00:33,  1.16s/it]"
     ]
    },
    {
     "name": "stdout",
     "output_type": "stream",
     "text": [
      "Prediction shape: torch.Size([32, 10, 3, 64, 64])\n"
     ]
    },
    {
     "name": "stderr",
     "output_type": "stream",
     "text": [
      " 35%|███▍      | 15/43 [00:17<00:32,  1.14s/it]"
     ]
    },
    {
     "name": "stdout",
     "output_type": "stream",
     "text": [
      "Prediction shape: torch.Size([32, 10, 3, 64, 64])\n"
     ]
    },
    {
     "name": "stderr",
     "output_type": "stream",
     "text": [
      " 37%|███▋      | 16/43 [00:18<00:30,  1.15s/it]"
     ]
    },
    {
     "name": "stdout",
     "output_type": "stream",
     "text": [
      "Prediction shape: torch.Size([32, 10, 3, 64, 64])\n"
     ]
    },
    {
     "name": "stderr",
     "output_type": "stream",
     "text": [
      " 40%|███▉      | 17/43 [00:19<00:29,  1.15s/it]"
     ]
    },
    {
     "name": "stdout",
     "output_type": "stream",
     "text": [
      "Prediction shape: torch.Size([32, 10, 3, 64, 64])\n"
     ]
    },
    {
     "name": "stderr",
     "output_type": "stream",
     "text": [
      " 42%|████▏     | 18/43 [00:20<00:28,  1.16s/it]"
     ]
    },
    {
     "name": "stdout",
     "output_type": "stream",
     "text": [
      "Prediction shape: torch.Size([32, 10, 3, 64, 64])\n"
     ]
    },
    {
     "name": "stderr",
     "output_type": "stream",
     "text": [
      " 44%|████▍     | 19/43 [00:21<00:28,  1.17s/it]"
     ]
    },
    {
     "name": "stdout",
     "output_type": "stream",
     "text": [
      "Prediction shape: torch.Size([32, 10, 3, 64, 64])\n"
     ]
    },
    {
     "name": "stderr",
     "output_type": "stream",
     "text": [
      " 47%|████▋     | 20/43 [00:23<00:26,  1.17s/it]"
     ]
    },
    {
     "name": "stdout",
     "output_type": "stream",
     "text": [
      "Prediction shape: torch.Size([32, 10, 3, 64, 64])\n"
     ]
    },
    {
     "name": "stderr",
     "output_type": "stream",
     "text": [
      " 49%|████▉     | 21/43 [00:24<00:25,  1.16s/it]"
     ]
    },
    {
     "name": "stdout",
     "output_type": "stream",
     "text": [
      "Prediction shape: torch.Size([32, 10, 3, 64, 64])\n"
     ]
    },
    {
     "name": "stderr",
     "output_type": "stream",
     "text": [
      " 51%|█████     | 22/43 [00:25<00:24,  1.16s/it]"
     ]
    },
    {
     "name": "stdout",
     "output_type": "stream",
     "text": [
      "Prediction shape: torch.Size([32, 10, 3, 64, 64])\n"
     ]
    },
    {
     "name": "stderr",
     "output_type": "stream",
     "text": [
      " 53%|█████▎    | 23/43 [00:26<00:23,  1.15s/it]"
     ]
    },
    {
     "name": "stdout",
     "output_type": "stream",
     "text": [
      "Prediction shape: torch.Size([32, 10, 3, 64, 64])\n"
     ]
    },
    {
     "name": "stderr",
     "output_type": "stream",
     "text": [
      " 56%|█████▌    | 24/43 [00:27<00:21,  1.15s/it]"
     ]
    },
    {
     "name": "stdout",
     "output_type": "stream",
     "text": [
      "Prediction shape: torch.Size([32, 10, 3, 64, 64])\n"
     ]
    },
    {
     "name": "stderr",
     "output_type": "stream",
     "text": [
      " 58%|█████▊    | 25/43 [00:28<00:20,  1.17s/it]"
     ]
    },
    {
     "name": "stdout",
     "output_type": "stream",
     "text": [
      "Prediction shape: torch.Size([32, 10, 3, 64, 64])\n"
     ]
    },
    {
     "name": "stderr",
     "output_type": "stream",
     "text": [
      " 60%|██████    | 26/43 [00:30<00:19,  1.17s/it]"
     ]
    },
    {
     "name": "stdout",
     "output_type": "stream",
     "text": [
      "Prediction shape: torch.Size([32, 10, 3, 64, 64])\n"
     ]
    },
    {
     "name": "stderr",
     "output_type": "stream",
     "text": [
      " 63%|██████▎   | 27/43 [00:31<00:18,  1.16s/it]"
     ]
    },
    {
     "name": "stdout",
     "output_type": "stream",
     "text": [
      "Prediction shape: torch.Size([32, 10, 3, 64, 64])\n"
     ]
    },
    {
     "name": "stderr",
     "output_type": "stream",
     "text": [
      " 65%|██████▌   | 28/43 [00:32<00:17,  1.15s/it]"
     ]
    },
    {
     "name": "stdout",
     "output_type": "stream",
     "text": [
      "Prediction shape: torch.Size([32, 10, 3, 64, 64])\n"
     ]
    },
    {
     "name": "stderr",
     "output_type": "stream",
     "text": [
      " 67%|██████▋   | 29/43 [00:33<00:16,  1.15s/it]"
     ]
    },
    {
     "name": "stdout",
     "output_type": "stream",
     "text": [
      "Prediction shape: torch.Size([32, 10, 3, 64, 64])\n"
     ]
    },
    {
     "name": "stderr",
     "output_type": "stream",
     "text": [
      " 70%|██████▉   | 30/43 [00:34<00:15,  1.17s/it]"
     ]
    },
    {
     "name": "stdout",
     "output_type": "stream",
     "text": [
      "Prediction shape: torch.Size([32, 10, 3, 64, 64])\n"
     ]
    },
    {
     "name": "stderr",
     "output_type": "stream",
     "text": [
      " 72%|███████▏  | 31/43 [00:35<00:14,  1.18s/it]"
     ]
    },
    {
     "name": "stdout",
     "output_type": "stream",
     "text": [
      "Prediction shape: torch.Size([32, 10, 3, 64, 64])\n"
     ]
    },
    {
     "name": "stderr",
     "output_type": "stream",
     "text": [
      " 74%|███████▍  | 32/43 [00:37<00:13,  1.19s/it]"
     ]
    },
    {
     "name": "stdout",
     "output_type": "stream",
     "text": [
      "Prediction shape: torch.Size([32, 10, 3, 64, 64])\n"
     ]
    },
    {
     "name": "stderr",
     "output_type": "stream",
     "text": [
      " 77%|███████▋  | 33/43 [00:38<00:11,  1.18s/it]"
     ]
    },
    {
     "name": "stdout",
     "output_type": "stream",
     "text": [
      "Prediction shape: torch.Size([32, 10, 3, 64, 64])\n"
     ]
    },
    {
     "name": "stderr",
     "output_type": "stream",
     "text": [
      " 79%|███████▉  | 34/43 [00:39<00:10,  1.18s/it]"
     ]
    },
    {
     "name": "stdout",
     "output_type": "stream",
     "text": [
      "Prediction shape: torch.Size([32, 10, 3, 64, 64])\n"
     ]
    },
    {
     "name": "stderr",
     "output_type": "stream",
     "text": [
      " 81%|████████▏ | 35/43 [00:40<00:09,  1.17s/it]"
     ]
    },
    {
     "name": "stdout",
     "output_type": "stream",
     "text": [
      "Prediction shape: torch.Size([32, 10, 3, 64, 64])\n"
     ]
    },
    {
     "name": "stderr",
     "output_type": "stream",
     "text": [
      " 84%|████████▎ | 36/43 [00:41<00:08,  1.17s/it]"
     ]
    },
    {
     "name": "stdout",
     "output_type": "stream",
     "text": [
      "Prediction shape: torch.Size([32, 10, 3, 64, 64])\n"
     ]
    },
    {
     "name": "stderr",
     "output_type": "stream",
     "text": [
      " 86%|████████▌ | 37/43 [00:42<00:07,  1.18s/it]"
     ]
    },
    {
     "name": "stdout",
     "output_type": "stream",
     "text": [
      "Prediction shape: torch.Size([32, 10, 3, 64, 64])\n"
     ]
    },
    {
     "name": "stderr",
     "output_type": "stream",
     "text": [
      " 88%|████████▊ | 38/43 [00:44<00:05,  1.17s/it]"
     ]
    },
    {
     "name": "stdout",
     "output_type": "stream",
     "text": [
      "Prediction shape: torch.Size([32, 10, 3, 64, 64])\n"
     ]
    },
    {
     "name": "stderr",
     "output_type": "stream",
     "text": [
      " 91%|█████████ | 39/43 [00:45<00:04,  1.17s/it]"
     ]
    },
    {
     "name": "stdout",
     "output_type": "stream",
     "text": [
      "Prediction shape: torch.Size([32, 10, 3, 64, 64])\n"
     ]
    },
    {
     "name": "stderr",
     "output_type": "stream",
     "text": [
      " 93%|█████████▎| 40/43 [00:46<00:03,  1.17s/it]"
     ]
    },
    {
     "name": "stdout",
     "output_type": "stream",
     "text": [
      "Prediction shape: torch.Size([32, 10, 3, 64, 64])\n"
     ]
    },
    {
     "name": "stderr",
     "output_type": "stream",
     "text": [
      " 95%|█████████▌| 41/43 [00:48<00:02,  1.28s/it]"
     ]
    },
    {
     "name": "stdout",
     "output_type": "stream",
     "text": [
      "Prediction shape: torch.Size([32, 10, 3, 64, 64])\n"
     ]
    },
    {
     "name": "stderr",
     "output_type": "stream",
     "text": [
      " 98%|█████████▊| 42/43 [00:49<00:01,  1.44s/it]"
     ]
    },
    {
     "name": "stdout",
     "output_type": "stream",
     "text": [
      "Prediction shape: torch.Size([22, 10, 3, 64, 64])\n"
     ]
    },
    {
     "name": "stderr",
     "output_type": "stream",
     "text": [
      "100%|██████████| 43/43 [00:50<00:00,  1.18s/it]\n"
     ]
    },
    {
     "data": {
      "image/png": "[encoded data removed]",
      "text/plain": [
       "<Figure size 640x480 with 1 Axes>"
      ]
     },
     "metadata": {},
     "output_type": "display_data"
    }
   ],
   "source": [
    "import numpy as np\n",
    "from skimage.metrics import structural_similarity as ssim\n",
    "import torch\n",
    "from tqdm import tqdm\n",
    "\n",
    "def calculate_average_ssim(model, data_loader, renorm_transform, num_future_frames, device='cuda:0'):\n",
    "    model = model.to(device)\n",
    "    model = model.eval()\n",
    "    ave_ssim = np.zeros(num_future_frames)\n",
    "    sample_num = 0\n",
    "\n",
    "    with torch.no_grad():\n",
    "        for idx, sample in enumerate(tqdm(data_loader), 0):\n",
    "            past_frames, future_frames = sample\n",
    "            past_frames = past_frames.to(device)\n",
    "            future_frames = future_frames.to(device)\n",
    "            pred = model(past_frames)\n",
    "            print(f\"Prediction shape: {pred.shape}\")  # Debug\n",
    "            for i in range(0, num_future_frames):\n",
    "                pred_t = pred[:, i, ...]\n",
    "                future_frames_t = future_frames[:, i, ...]\n",
    "\n",
    "                pred_t = renorm_transform(pred_t)\n",
    "                future_frames_t = renorm_transform(future_frames_t)\n",
    "\n",
    "                ssim_value = ssim(pred_t.cpu().numpy(), future_frames_t.cpu().numpy(), win_size=3, multichannel=True, data_range=1.0, channel_axis=0)\n",
    "                ave_ssim[i] += ssim_value * pred_t.shape[0]\n",
    "\n",
    "            sample_num += pred.shape[0]\n",
    "\n",
    "    ave_ssim = ave_ssim / sample_num\n",
    "    return ave_ssim\n",
    "\n",
    "num_future_frames = 10\n",
    "\n",
    "# Assuming you have a test_loader and renorm_transform defined\n",
    "average_ssim = calculate_average_ssim(\n",
    "    model=model,\n",
    "    data_loader=test_loader,\n",
    "    renorm_transform=renorm_transform,\n",
    "    num_future_frames=num_future_frames,  # Adjusted to match model output\n",
    "    device='cuda:0'\n",
    ")\n",
    "\n",
    "# Plot SSIM results for the first 15 time steps (15 to 30)\n",
    "#time_steps = np.arange(15, 31)  # Time steps from 15 to 30\n",
    "time_steps = np.arange(1, 11)  # Time steps from 1 to 10\n",
    "plt.plot(time_steps, average_ssim[:16], marker='*', linestyle='-', color='b', label='SSIM') # <--- Slice average_ssim to 16 values\n",
    "plt.xlabel('Time Step')\n",
    "plt.ylabel('Average SSIM')\n",
    "plt.title('Average SSIM over Time Steps')\n",
    "plt.ylim([0.6, 1.0]) \n",
    "plt.grid(True)\n",
    "plt.legend()\n",
    "plt.show()"
   ]
  },
  {
   "cell_type": "code",
   "execution_count": 15,
   "id": "5b1bc05b",
   "metadata": {},
   "outputs": [
    {
     "name": "stderr",
     "output_type": "stream",
     "text": [
      "  0%|          | 0/43 [00:00<?, ?it/s]"
     ]
    },
    {
     "name": "stdout",
     "output_type": "stream",
     "text": [
      "Prediction shape: torch.Size([32, 10, 3, 64, 64])\n"
     ]
    },
    {
     "name": "stderr",
     "output_type": "stream",
     "text": [
      "  2%|▏         | 1/43 [00:00<00:37,  1.12it/s]"
     ]
    },
    {
     "name": "stdout",
     "output_type": "stream",
     "text": [
      "Prediction shape: torch.Size([32, 10, 3, 64, 64])\n"
     ]
    },
    {
     "name": "stderr",
     "output_type": "stream",
     "text": [
      "  5%|▍         | 2/43 [00:01<00:36,  1.14it/s]"
     ]
    },
    {
     "name": "stdout",
     "output_type": "stream",
     "text": [
      "Prediction shape: torch.Size([32, 10, 3, 64, 64])\n"
     ]
    },
    {
     "name": "stderr",
     "output_type": "stream",
     "text": [
      "  7%|▋         | 3/43 [00:02<00:34,  1.15it/s]"
     ]
    },
    {
     "name": "stdout",
     "output_type": "stream",
     "text": [
      "Prediction shape: torch.Size([32, 10, 3, 64, 64])\n"
     ]
    },
    {
     "name": "stderr",
     "output_type": "stream",
     "text": [
      "  9%|▉         | 4/43 [00:03<00:34,  1.15it/s]"
     ]
    },
    {
     "name": "stdout",
     "output_type": "stream",
     "text": [
      "Prediction shape: torch.Size([32, 10, 3, 64, 64])\n"
     ]
    },
    {
     "name": "stderr",
     "output_type": "stream",
     "text": [
      " 12%|█▏        | 5/43 [00:04<00:33,  1.15it/s]"
     ]
    },
    {
     "name": "stdout",
     "output_type": "stream",
     "text": [
      "Prediction shape: torch.Size([32, 10, 3, 64, 64])\n"
     ]
    },
    {
     "name": "stderr",
     "output_type": "stream",
     "text": [
      " 14%|█▍        | 6/43 [00:05<00:31,  1.16it/s]"
     ]
    },
    {
     "name": "stdout",
     "output_type": "stream",
     "text": [
      "Prediction shape: torch.Size([32, 10, 3, 64, 64])\n"
     ]
    },
    {
     "name": "stderr",
     "output_type": "stream",
     "text": [
      " 16%|█▋        | 7/43 [00:06<00:30,  1.16it/s]"
     ]
    },
    {
     "name": "stdout",
     "output_type": "stream",
     "text": [
      "Prediction shape: torch.Size([32, 10, 3, 64, 64])\n"
     ]
    },
    {
     "name": "stderr",
     "output_type": "stream",
     "text": [
      " 19%|█▊        | 8/43 [00:06<00:30,  1.16it/s]"
     ]
    },
    {
     "name": "stdout",
     "output_type": "stream",
     "text": [
      "Prediction shape: torch.Size([32, 10, 3, 64, 64])\n"
     ]
    },
    {
     "name": "stderr",
     "output_type": "stream",
     "text": [
      " 21%|██        | 9/43 [00:07<00:29,  1.16it/s]"
     ]
    },
    {
     "name": "stdout",
     "output_type": "stream",
     "text": [
      "Prediction shape: torch.Size([32, 10, 3, 64, 64])\n"
     ]
    },
    {
     "name": "stderr",
     "output_type": "stream",
     "text": [
      " 23%|██▎       | 10/43 [00:08<00:28,  1.17it/s]"
     ]
    },
    {
     "name": "stdout",
     "output_type": "stream",
     "text": [
      "Prediction shape: torch.Size([32, 10, 3, 64, 64])\n"
     ]
    },
    {
     "name": "stderr",
     "output_type": "stream",
     "text": [
      " 26%|██▌       | 11/43 [00:09<00:27,  1.16it/s]"
     ]
    },
    {
     "name": "stdout",
     "output_type": "stream",
     "text": [
      "Prediction shape: torch.Size([32, 10, 3, 64, 64])\n"
     ]
    },
    {
     "name": "stderr",
     "output_type": "stream",
     "text": [
      " 28%|██▊       | 12/43 [00:10<00:26,  1.16it/s]"
     ]
    },
    {
     "name": "stdout",
     "output_type": "stream",
     "text": [
      "Prediction shape: torch.Size([32, 10, 3, 64, 64])\n"
     ]
    },
    {
     "name": "stderr",
     "output_type": "stream",
     "text": [
      " 30%|███       | 13/43 [00:11<00:25,  1.16it/s]"
     ]
    },
    {
     "name": "stdout",
     "output_type": "stream",
     "text": [
      "Prediction shape: torch.Size([32, 10, 3, 64, 64])\n"
     ]
    },
    {
     "name": "stderr",
     "output_type": "stream",
     "text": [
      " 33%|███▎      | 14/43 [00:12<00:25,  1.16it/s]"
     ]
    },
    {
     "name": "stdout",
     "output_type": "stream",
     "text": [
      "Prediction shape: torch.Size([32, 10, 3, 64, 64])\n"
     ]
    },
    {
     "name": "stderr",
     "output_type": "stream",
     "text": [
      " 35%|███▍      | 15/43 [00:12<00:24,  1.16it/s]"
     ]
    },
    {
     "name": "stdout",
     "output_type": "stream",
     "text": [
      "Prediction shape: torch.Size([32, 10, 3, 64, 64])\n"
     ]
    },
    {
     "name": "stderr",
     "output_type": "stream",
     "text": [
      " 37%|███▋      | 16/43 [00:13<00:23,  1.16it/s]"
     ]
    },
    {
     "name": "stdout",
     "output_type": "stream",
     "text": [
      "Prediction shape: torch.Size([32, 10, 3, 64, 64])\n"
     ]
    },
    {
     "name": "stderr",
     "output_type": "stream",
     "text": [
      " 40%|███▉      | 17/43 [00:14<00:22,  1.16it/s]"
     ]
    },
    {
     "name": "stdout",
     "output_type": "stream",
     "text": [
      "Prediction shape: torch.Size([32, 10, 3, 64, 64])\n"
     ]
    },
    {
     "name": "stderr",
     "output_type": "stream",
     "text": [
      " 42%|████▏     | 18/43 [00:15<00:21,  1.15it/s]"
     ]
    },
    {
     "name": "stdout",
     "output_type": "stream",
     "text": [
      "Prediction shape: torch.Size([32, 10, 3, 64, 64])\n"
     ]
    },
    {
     "name": "stderr",
     "output_type": "stream",
     "text": [
      " 44%|████▍     | 19/43 [00:16<00:20,  1.16it/s]"
     ]
    },
    {
     "name": "stdout",
     "output_type": "stream",
     "text": [
      "Prediction shape: torch.Size([32, 10, 3, 64, 64])\n"
     ]
    },
    {
     "name": "stderr",
     "output_type": "stream",
     "text": [
      " 47%|████▋     | 20/43 [00:17<00:20,  1.15it/s]"
     ]
    },
    {
     "name": "stdout",
     "output_type": "stream",
     "text": [
      "Prediction shape: torch.Size([32, 10, 3, 64, 64])\n"
     ]
    },
    {
     "name": "stderr",
     "output_type": "stream",
     "text": [
      " 49%|████▉     | 21/43 [00:18<00:19,  1.15it/s]"
     ]
    },
    {
     "name": "stdout",
     "output_type": "stream",
     "text": [
      "Prediction shape: torch.Size([32, 10, 3, 64, 64])\n"
     ]
    },
    {
     "name": "stderr",
     "output_type": "stream",
     "text": [
      " 51%|█████     | 22/43 [00:19<00:20,  1.03it/s]"
     ]
    },
    {
     "name": "stdout",
     "output_type": "stream",
     "text": [
      "Prediction shape: torch.Size([32, 10, 3, 64, 64])\n"
     ]
    },
    {
     "name": "stderr",
     "output_type": "stream",
     "text": [
      " 53%|█████▎    | 23/43 [00:20<00:19,  1.03it/s]"
     ]
    },
    {
     "name": "stdout",
     "output_type": "stream",
     "text": [
      "Prediction shape: torch.Size([32, 10, 3, 64, 64])\n"
     ]
    },
    {
     "name": "stderr",
     "output_type": "stream",
     "text": [
      " 56%|█████▌    | 24/43 [00:21<00:17,  1.07it/s]"
     ]
    },
    {
     "name": "stdout",
     "output_type": "stream",
     "text": [
      "Prediction shape: torch.Size([32, 10, 3, 64, 64])\n"
     ]
    },
    {
     "name": "stderr",
     "output_type": "stream",
     "text": [
      " 58%|█████▊    | 25/43 [00:22<00:16,  1.08it/s]"
     ]
    },
    {
     "name": "stdout",
     "output_type": "stream",
     "text": [
      "Prediction shape: torch.Size([32, 10, 3, 64, 64])\n"
     ]
    },
    {
     "name": "stderr",
     "output_type": "stream",
     "text": [
      " 60%|██████    | 26/43 [00:22<00:15,  1.10it/s]"
     ]
    },
    {
     "name": "stdout",
     "output_type": "stream",
     "text": [
      "Prediction shape: torch.Size([32, 10, 3, 64, 64])\n"
     ]
    },
    {
     "name": "stderr",
     "output_type": "stream",
     "text": [
      " 63%|██████▎   | 27/43 [00:24<00:15,  1.01it/s]"
     ]
    },
    {
     "name": "stdout",
     "output_type": "stream",
     "text": [
      "Prediction shape: torch.Size([32, 10, 3, 64, 64])\n"
     ]
    },
    {
     "name": "stderr",
     "output_type": "stream",
     "text": [
      " 65%|██████▌   | 28/43 [00:25<00:17,  1.14s/it]"
     ]
    },
    {
     "name": "stdout",
     "output_type": "stream",
     "text": [
      "Prediction shape: torch.Size([32, 10, 3, 64, 64])\n"
     ]
    },
    {
     "name": "stderr",
     "output_type": "stream",
     "text": [
      " 67%|██████▋   | 29/43 [00:26<00:14,  1.06s/it]"
     ]
    },
    {
     "name": "stdout",
     "output_type": "stream",
     "text": [
      "Prediction shape: torch.Size([32, 10, 3, 64, 64])\n"
     ]
    },
    {
     "name": "stderr",
     "output_type": "stream",
     "text": [
      " 70%|██████▉   | 30/43 [00:27<00:13,  1.01s/it]"
     ]
    },
    {
     "name": "stdout",
     "output_type": "stream",
     "text": [
      "Prediction shape: torch.Size([32, 10, 3, 64, 64])\n"
     ]
    },
    {
     "name": "stderr",
     "output_type": "stream",
     "text": [
      " 72%|███████▏  | 31/43 [00:28<00:13,  1.10s/it]"
     ]
    },
    {
     "name": "stdout",
     "output_type": "stream",
     "text": [
      "Prediction shape: torch.Size([32, 10, 3, 64, 64])\n"
     ]
    },
    {
     "name": "stderr",
     "output_type": "stream",
     "text": [
      " 74%|███████▍  | 32/43 [00:29<00:11,  1.04s/it]"
     ]
    },
    {
     "name": "stdout",
     "output_type": "stream",
     "text": [
      "Prediction shape: torch.Size([32, 10, 3, 64, 64])\n"
     ]
    },
    {
     "name": "stderr",
     "output_type": "stream",
     "text": [
      " 77%|███████▋  | 33/43 [00:30<00:09,  1.02it/s]"
     ]
    },
    {
     "name": "stdout",
     "output_type": "stream",
     "text": [
      "Prediction shape: torch.Size([32, 10, 3, 64, 64])\n"
     ]
    },
    {
     "name": "stderr",
     "output_type": "stream",
     "text": [
      " 79%|███████▉  | 34/43 [00:31<00:08,  1.06it/s]"
     ]
    },
    {
     "name": "stdout",
     "output_type": "stream",
     "text": [
      "Prediction shape: torch.Size([32, 10, 3, 64, 64])\n"
     ]
    },
    {
     "name": "stderr",
     "output_type": "stream",
     "text": [
      " 81%|████████▏ | 35/43 [00:32<00:07,  1.09it/s]"
     ]
    },
    {
     "name": "stdout",
     "output_type": "stream",
     "text": [
      "Prediction shape: torch.Size([32, 10, 3, 64, 64])\n"
     ]
    },
    {
     "name": "stderr",
     "output_type": "stream",
     "text": [
      " 84%|████████▎ | 36/43 [00:33<00:06,  1.00it/s]"
     ]
    },
    {
     "name": "stdout",
     "output_type": "stream",
     "text": [
      "Prediction shape: torch.Size([32, 10, 3, 64, 64])\n"
     ]
    },
    {
     "name": "stderr",
     "output_type": "stream",
     "text": [
      " 86%|████████▌ | 37/43 [00:34<00:05,  1.01it/s]"
     ]
    },
    {
     "name": "stdout",
     "output_type": "stream",
     "text": [
      "Prediction shape: torch.Size([32, 10, 3, 64, 64])\n"
     ]
    },
    {
     "name": "stderr",
     "output_type": "stream",
     "text": [
      " 88%|████████▊ | 38/43 [00:35<00:04,  1.05it/s]"
     ]
    },
    {
     "name": "stdout",
     "output_type": "stream",
     "text": [
      "Prediction shape: torch.Size([32, 10, 3, 64, 64])\n"
     ]
    },
    {
     "name": "stderr",
     "output_type": "stream",
     "text": [
      " 91%|█████████ | 39/43 [00:36<00:03,  1.09it/s]"
     ]
    },
    {
     "name": "stdout",
     "output_type": "stream",
     "text": [
      "Prediction shape: torch.Size([32, 10, 3, 64, 64])\n"
     ]
    },
    {
     "name": "stderr",
     "output_type": "stream",
     "text": [
      " 93%|█████████▎| 40/43 [00:36<00:02,  1.11it/s]"
     ]
    },
    {
     "name": "stdout",
     "output_type": "stream",
     "text": [
      "Prediction shape: torch.Size([32, 10, 3, 64, 64])\n"
     ]
    },
    {
     "name": "stderr",
     "output_type": "stream",
     "text": [
      " 95%|█████████▌| 41/43 [00:37<00:01,  1.13it/s]"
     ]
    },
    {
     "name": "stdout",
     "output_type": "stream",
     "text": [
      "Prediction shape: torch.Size([32, 10, 3, 64, 64])\n"
     ]
    },
    {
     "name": "stderr",
     "output_type": "stream",
     "text": [
      " 98%|█████████▊| 42/43 [00:38<00:00,  1.14it/s]"
     ]
    },
    {
     "name": "stdout",
     "output_type": "stream",
     "text": [
      "Prediction shape: torch.Size([22, 10, 3, 64, 64])\n"
     ]
    },
    {
     "name": "stderr",
     "output_type": "stream",
     "text": [
      "100%|██████████| 43/43 [00:39<00:00,  1.10it/s]\n"
     ]
    },
    {
     "data": {
      "image/png": "[encoded data removed]",
      "text/plain": [
       "<Figure size 640x480 with 1 Axes>"
      ]
     },
     "metadata": {},
     "output_type": "display_data"
    }
   ],
   "source": [
    "import numpy as np\n",
    "from utils import PSNR\n",
    "import torch\n",
    "from tqdm import tqdm\n",
    "import matplotlib.pyplot as plt\n",
    "\n",
    "def calculate_average_psnr(model, data_loader, renorm_transform, num_future_frames, device='cuda:0'):\n",
    "    model = model.to(device)\n",
    "    model = model.eval()\n",
    "    ave_psnr = np.zeros(num_future_frames)\n",
    "    sample_num = 0\n",
    "\n",
    "    with torch.no_grad():\n",
    "        for idx, sample in enumerate(tqdm(data_loader), 0):\n",
    "            past_frames, future_frames = sample\n",
    "            past_frames = past_frames.to(device)\n",
    "            future_frames = future_frames.to(device)\n",
    "            pred = model(past_frames)\n",
    "            print(f\"Prediction shape: {pred.shape}\")  # Debug\n",
    "            for i in range(0, num_future_frames):\n",
    "                pred_t = pred[:, i, ...]\n",
    "                future_frames_t = future_frames[:, i, ...]\n",
    "\n",
    "                pred_t = renorm_transform(pred_t)\n",
    "                future_frames_t = renorm_transform(future_frames_t)\n",
    "\n",
    "                psnr_value = PSNR(pred_t, future_frames_t)\n",
    "                ave_psnr[i] += psnr_value * pred_t.shape[0]\n",
    "\n",
    "            sample_num += pred.shape[0]\n",
    "\n",
    "    ave_psnr = ave_psnr / sample_num\n",
    "    return ave_psnr\n",
    "\n",
    "# Assuming you have a test_loader and renorm_transform defined\n",
    "num_future_frames = 10 # <--- Set this to 10 to match time_steps\n",
    "average_psnr = calculate_average_psnr(\n",
    "    model=model,\n",
    "    data_loader=test_loader,\n",
    "    renorm_transform=renorm_transform,\n",
    "    num_future_frames=num_future_frames,  # Use the same value here\n",
    "    device='cuda:0'\n",
    ")\n",
    "\n",
    "\n",
    "# Assuming average_psnr contains your PSNR values and has the same length as the number of time steps\n",
    "# Adjust the number of time steps based on your PSNR values\n",
    "time_steps = np.arange(1, len(average_psnr) + 1)  # Adjust to match your PSNR data length\n",
    "\n",
    "# Plot the PSNR results\n",
    "plt.plot(time_steps, average_psnr, marker='*', linestyle='-', color='b', label='PSNR')\n",
    "plt.xlabel('Time Step')\n",
    "plt.ylabel('Average PSNR')\n",
    "plt.title('Average PSNR over Time Steps')\n",
    "plt.ylim([20, 40])  # Adjust the y-axis limit to a typical range for PSNR\n",
    "plt.grid(True)\n",
    "plt.legend()\n",
    "plt.show()\n"
   ]
  },
  {
   "cell_type": "code",
   "execution_count": 22,
   "id": "0d9e52bd",
   "metadata": {},
   "outputs": [
    {
     "ename": "NameError",
     "evalue": "name 'model' is not defined",
     "output_type": "error",
     "traceback": [
      "\u001b[1;31m---------------------------------------------------------------------------\u001b[0m",
      "\u001b[1;31mNameError\u001b[0m                                 Traceback (most recent call last)",
      "Cell \u001b[1;32mIn[22], line 32\u001b[0m\n\u001b[0;32m     28\u001b[0m     \u001b[38;5;28;01mreturn\u001b[39;00m ave_psnr\n\u001b[0;32m     30\u001b[0m \u001b[38;5;66;03m# Assuming you have a test_loader and renorm_transform defined\u001b[39;00m\n\u001b[0;32m     31\u001b[0m average_psnr \u001b[38;5;241m=\u001b[39m calculate_average_psnr(\n\u001b[1;32m---> 32\u001b[0m     model\u001b[38;5;241m=\u001b[39m\u001b[43mmodel\u001b[49m,\n\u001b[0;32m     33\u001b[0m     data_loader\u001b[38;5;241m=\u001b[39mtest_loader,\n\u001b[0;32m     34\u001b[0m     renorm_transform\u001b[38;5;241m=\u001b[39mrenorm_transform,\n\u001b[0;32m     35\u001b[0m     num_future_frames\u001b[38;5;241m=\u001b[39m\u001b[38;5;241m20\u001b[39m,\n\u001b[0;32m     36\u001b[0m     device\u001b[38;5;241m=\u001b[39m\u001b[38;5;124m'\u001b[39m\u001b[38;5;124mcuda:0\u001b[39m\u001b[38;5;124m'\u001b[39m\n\u001b[0;32m     37\u001b[0m )\n\u001b[0;32m     39\u001b[0m \u001b[38;5;66;03m# Plot PSNR results\u001b[39;00m\n\u001b[0;32m     40\u001b[0m plt\u001b[38;5;241m.\u001b[39mfigure()\n",
      "\u001b[1;31mNameError\u001b[0m: name 'model' is not defined"
     ]
    }
   ],
   "source": [
    "import torch\n",
    "\n",
    "def calculate_average_psnr(model, data_loader, renorm_transform, num_future_frames, device='cuda:0'):\n",
    "    model = model.to(device)\n",
    "    model = model.eval()\n",
    "    ave_psnr = np.zeros(num_future_frames)\n",
    "    sample_num = 0\n",
    "\n",
    "    with torch.no_grad():\n",
    "        for idx, sample in enumerate(tqdm(data_loader), 0):\n",
    "            past_frames, future_frames = sample\n",
    "            past_frames = past_frames.to(device)\n",
    "            future_frames = future_frames.to(device)\n",
    "            pred = model(past_frames)\n",
    "            for i in range(0, num_future_frames):\n",
    "                pred_t = pred[:, i, ...]\n",
    "                future_frames_t = future_frames[:, i, ...]\n",
    "\n",
    "                pred_t = renorm_transform(pred_t)\n",
    "                future_frames_t = renorm_transform(future_frames_t)\n",
    "\n",
    "                psnr_value = calculate_psnr(pred_t.cpu().numpy(), future_frames_t.cpu().numpy())\n",
    "                ave_psnr[i] += psnr_value * pred_t.shape[0]\n",
    "\n",
    "            sample_num += pred.shape[0]\n",
    "\n",
    "    ave_psnr = ave_psnr / sample_num\n",
    "    return ave_psnr\n",
    "\n",
    "# Assuming you have a test_loader and renorm_transform defined\n",
    "average_psnr = calculate_average_psnr(\n",
    "    model=model,\n",
    "    data_loader=test_loader,\n",
    "    renorm_transform=renorm_transform,\n",
    "    num_future_frames=20,\n",
    "    device='cuda:0'\n",
    ")\n",
    "\n",
    "# Plot PSNR results\n",
    "plt.figure()\n",
    "plt.plot(time_steps, average_psnr, label='PSNR', color='orange')\n",
    "plt.xlabel('Time Step')\n",
    "plt.ylabel('PSNR')\n",
    "plt.title('Peak Signal-to-Noise Ratio')\n",
    "plt.legend()\n",
    "plt.show()\n"
   ]
  },
  {
   "cell_type": "code",
   "execution_count": 23,
   "id": "8733606b",
   "metadata": {},
   "outputs": [],
   "source": [
    "import numpy as np\n",
    "from utils import PSNR, SSIM\n",
    "import lpips\n",
    "\n",
    "def pred_ave_metrics(model, data_loader, metric_func, renorm_transform, num_future_frames, num_past_frames, device = 'cuda:0', use_lpips = False, gray_scale = False):\n",
    "    model = model.to(device)\n",
    "    model = model.eval()\n",
    "    ave_metric = np.zeros(num_future_frames)\n",
    "    sample_num = 0\n",
    "\n",
    "    with torch.no_grad():\n",
    "        for idx, sample in enumerate(data_loader, 0):\n",
    "            past_frames, future_frames = sample\n",
    "            past_frames = past_frames.to(device)\n",
    "            future_frames = future_frames.to(device)\n",
    "            pred = model(past_frames)\n",
    "            for i in range(0, num_future_frames):\n",
    "                pred_t = pred[:, i, ...]\n",
    "                future_frames_t = future_frames[:, i, ...]\n",
    "                \n",
    "                if not use_lpips:\n",
    "                    pred_t = renorm_transform(pred_t)\n",
    "                    future_frames_t = renorm_transform(future_frames_t)\n",
    "                elif use_lpips and gray_scale:\n",
    "                    pred_t = pred_t.repeat(1, 3, 1, 1)\n",
    "                    future_frames_t = future_frames_t.repeat(1, 3, 1, 1)\n",
    "                    \n",
    "                m = metric_func(pred_t, future_frames_t)*pred_t.shape[0]\n",
    "                try:\n",
    "                    ave_metric[i] += m.mean()\n",
    "                except AttributeError:\n",
    "                    ave_metric[i] += m\n",
    "                \n",
    "            sample_num += pred.shape[0]\n",
    "\n",
    "    ave_metric = ave_metric / sample_num\n",
    "    return ave_metric"
   ]
  },
  {
   "cell_type": "code",
   "execution_count": 24,
   "id": "dbfaa8ca",
   "metadata": {},
   "outputs": [],
   "source": [
    "import numpy as np\n",
    "import torch\n",
    "from skimage.metrics import structural_similarity as ssim\n",
    "from utils import PSNR\n",
    "import lpips\n",
    "\n",
    "def pred_ave_metrics(model, data_loader, renorm_transform, num_future_frames, num_past_frames, device='cuda:0', use_lpips=False, gray_scale=False):\n",
    "    model = model.to(device)\n",
    "    model = model.eval()\n",
    "    ave_metric = np.zeros(num_future_frames)\n",
    "    sample_num = 0\n",
    "\n",
    "    with torch.no_grad():\n",
    "        for idx, sample in enumerate(data_loader, 0):\n",
    "            past_frames, future_frames = sample\n",
    "            past_frames = past_frames.to(device)\n",
    "            future_frames = future_frames.to(device)\n",
    "            pred = model(past_frames)\n",
    "            for i in range(0, num_future_frames):\n",
    "                pred_t = pred[:, i, ...]\n",
    "                future_frames_t = future_frames[:, i, ...]\n",
    "\n",
    "                if not use_lpips:\n",
    "                    pred_t = renorm_transform(pred_t)\n",
    "                    future_frames_t = renorm_transform(future_frames_t)\n",
    "                elif use_lpips and gray_scale:\n",
    "                    pred_t = pred_t.repeat(1, 3, 1, 1)\n",
    "                    future_frames_t = future_frames_t.repeat(1, 3, 1, 1)\n",
    "\n",
    "                # Convert tensors to numpy arrays for SSIM calculation\n",
    "                pred_np = pred_t.cpu().numpy().transpose(0, 2, 3, 1)\n",
    "                future_np = future_frames_t.cpu().numpy().transpose(0, 2, 3, 1)\n",
    "\n",
    "                # Calculate SSIM for each image in the batch\n",
    "                ssim_values = []\n",
    "                for j in range(pred_np.shape[0]):\n",
    "                    ssim_value = ssim(pred_np[j], future_np[j], multichannel=True)\n",
    "                    ssim_values.append(ssim_value)\n",
    "\n",
    "                m = np.array(ssim_values) * pred_t.shape[0]\n",
    "                try:\n",
    "                    ave_metric[i] += m.mean()\n",
    "                except AttributeError:\n",
    "                    ave_metric[i] += m\n",
    "\n",
    "            sample_num += pred.shape[0]\n",
    "\n",
    "    ave_metric = ave_metric / sample_num\n",
    "    return ave_metric"
   ]
  },
  {
   "cell_type": "code",
   "execution_count": 25,
   "id": "db14221f",
   "metadata": {},
   "outputs": [],
   "source": [
    "encoder = VPTR_Enc\n",
    "decoder = VPTR_Dec"
   ]
  },
  {
   "cell_type": "code",
   "execution_count": 26,
   "id": "5823de34",
   "metadata": {},
   "outputs": [],
   "source": [
    "class VPTRModel(nn.Module):\n",
    "    def __init__(self, encoder, decoder):\n",
    "        super(VPTRModel, self).__init__()\n",
    "        self.encoder = encoder\n",
    "        self.decoder = decoder\n",
    "\n",
    "    def forward(self, past_frames):\n",
    "        encoded_feats = self.encoder(past_frames)\n",
    "        pred_frames = self.decoder(encoded_feats)\n",
    "        return pred_frames"
   ]
  },
  {
   "cell_type": "code",
   "execution_count": 27,
   "id": "eb89d72e",
   "metadata": {},
   "outputs": [],
   "source": [
    "# Create the combined model\n",
    "model = VPTRModel(encoder, decoder)"
   ]
  },
  {
   "cell_type": "markdown",
   "id": "d00595dc",
   "metadata": {},
   "source": [
    "SSIM is a widely used metric for image quality assessment. It is based on the computation of the similarity between two images. The SSIM value ranges from -1 to 1, where 1 indicates the highest similarity between the two images. In this notebook, we will test the trained VPTR model on the test dataset and calculate the SSIM value between the predicted and ground truth images."
   ]
  },
  {
   "cell_type": "code",
   "execution_count": 43,
   "id": "667cd1aa",
   "metadata": {},
   "outputs": [],
   "source": [
    "import numpy as np\n",
    "from skimage.metrics import structural_similarity as ssim\n",
    "\n",
    "# Define a suitable window size\n",
    "win_size = 3\n",
    "\n",
    "# Use the pred_ave_metrics function to measure SSIM\n",
    "average_metrics = pred_ave_metrics(\n",
    "    model=model,\n",
    "    data_loader=test_loader,\n",
    "    metric_func=lambda x, y: ssim(x.cpu().numpy(), y.cpu().numpy(), win_size=win_size, multichannel=True, data_range=1.0),  # Convert tensors to NumPy arrays and specify data_range\n",
    "    renorm_transform=renorm_transform,\n",
    "    num_future_frames=2,\n",
    "    num_past_frames=10,\n",
    "    device='cuda:0',\n",
    "    use_lpips=False,\n",
    "    gray_scale=True\n",
    ")"
   ]
  },
  {
   "cell_type": "code",
   "execution_count": 44,
   "id": "2da670d9",
   "metadata": {},
   "outputs": [
    {
     "name": "stdout",
     "output_type": "stream",
     "text": [
      "[0.88832196 0.88686032]\n"
     ]
    }
   ],
   "source": [
    "print(average_metrics)"
   ]
  },
  {
   "cell_type": "code",
   "execution_count": 14,
   "id": "2518e5c1",
   "metadata": {},
   "outputs": [],
   "source": [
    "# Use the pred_ave_metrics function\n",
    "average_metrics = pred_ave_metrics(\n",
    "    model=model,\n",
    "    data_loader=test_loader,\n",
    "    metric_func=PSNR,\n",
    "    renorm_transform=renorm_transform,\n",
    "    num_future_frames=2,\n",
    "    num_past_frames=10,\n",
    "    device='cuda:0',\n",
    "    use_lpips=False,\n",
    "    gray_scale=True\n",
    ")"
   ]
  },
  {
   "cell_type": "code",
   "execution_count": 15,
   "id": "4fa8fc2c",
   "metadata": {},
   "outputs": [
    {
     "name": "stdout",
     "output_type": "stream",
     "text": [
      "[24.68457899 24.65911371]\n"
     ]
    }
   ],
   "source": [
    "print(average_metrics)"
   ]
  },
  {
   "cell_type": "markdown",
   "id": "cd3405c6",
   "metadata": {},
   "source": []
  },
  {
   "cell_type": "code",
   "execution_count": null,
   "metadata": {},
   "outputs": [],
   "source": [
    "import numpy as np\n",
    "from utils import PSNR, SSIM\n",
    "import lpips\n",
    "\n",
    "def pred_ave_metrics(model, data_loader, metric_func, renorm_transform, num_future_frames, num_past_frames, device = 'cuda:0', use_lpips = False, gray_scale = True):\n",
    "    model = model.to(device)\n",
    "    model = model.eval()\n",
    "    ave_metric = np.zeros(num_future_frames)\n",
    "    sample_num = 0\n",
    "\n",
    "    with torch.no_grad():\n",
    "        for idx, sample in enumerate(data_loader, 0):\n",
    "            past_frames, future_frames = sample\n",
    "            past_frames = past_frames.to(device)\n",
    "            future_frames = future_frames.to(device)\n",
    "            pred = model(past_frames)\n",
    "            for i in range(0, num_future_frames):\n",
    "                pred_t = pred[:, i, ...]\n",
    "                future_frames_t = future_frames[:, i, ...]\n",
    "                \n",
    "                if not use_lpips:\n",
    "                    pred_t = renorm_transform(pred_t)\n",
    "                    future_frames_t = renorm_transform(future_frames_t)\n",
    "                elif use_lpips and gray_scale:\n",
    "                    pred_t = pred_t.repeat(1, 3, 1, 1)\n",
    "                    future_frames_t = future_frames_t.repeat(1, 3, 1, 1)\n",
    "                    \n",
    "                m = metric_func(pred_t, future_frames_t)*pred_t.shape[0]\n",
    "                try:\n",
    "                    ave_metric[i] += m.mean()\n",
    "                except AttributeError:\n",
    "                    ave_metric[i] += m\n",
    "                \n",
    "            sample_num += pred.shape[0]\n",
    "\n",
    "    ave_metric = ave_metric / sample_num\n",
    "    return ave_metric"
   ]
  },
  {
   "cell_type": "code",
   "execution_count": null,
   "id": "9c7c34c8",
   "metadata": {},
   "outputs": [],
   "source": [
    "from skimage.metrics import peak_signal_noise_ratio, structural_similarity\n",
    "import numpy as np\n",
    "\n",
    "def compute_metrics(predictions, ground_truths):\n",
    "\tpsnr_values = []\n",
    "\tssim_values = []\n",
    "\ttime_steps = [15, 20, 25, 30]\n",
    "\tmodels = ['MCnet', 'SVG-LP', 'SVG-LP*', 'ML-VAE', 'TPG-VAE']\n",
    "\n",
    "\tresults = {model: {t: {'psnr': [], 'ssim': []} for t in time_steps} for model in models}\n",
    "\t\n",
    "\tfor model in models:\n",
    "\t\tfor t in time_steps:\n",
    "\t\t\tpredictions = ...  # Load or generate predictions for the model at time step t\n",
    "\t\t\tground_truths = ...  # Load ground truth images\n",
    "\t\t\tmean_psnr, std_psnr, mean_ssim, std_ssim = compute_metrics(predictions, ground_truths)\n",
    "\t\t\tresults[model][t]['psnr'] = (mean_psnr, std_psnr)\n",
    "\t\t\tresults[model][t]['ssim'] = (mean_ssim, std_ssim)\n",
    "\t\n",
    "\ttable_data = []\n",
    "\tfor model in results:\n",
    "\t\trow = [model]\n",
    "\t\tfor t in time_steps:\n",
    "\t\t\tpsnr_mean, psnr_std = results[model][t]['psnr']\n",
    "\t\t\tssim_mean, ssim_std = results[model][t]['ssim']\n",
    "\t\t\trow.append(f'{psnr_mean:.2f}±{psnr_std:.2f}')\n",
    "\t\t\trow.append(f'{ssim_mean:.3f}±{ssim_std:.3f}')\n",
    "\t\ttable_data.append(row)\n",
    "\t\n",
    "\tcolumns = ['Model'] + [f'PSNR t={t}' for t in time_steps] + [f'SSIM t={t}' for t in time_steps]\n",
    "\tdf = pd.DataFrame(table_data, columns=columns)\n",
    "\tprint(df.to_string(index=False))\n",
    "\treturn np.mean(psnr_values), np.std(psnr_values), np.mean(ssim_values), np.std(ssim_values)\n",
    "\n",
    "import matplotlib.pyplot as plt\n",
    "\n",
    "def plot_metrics(results, metric_name):\n",
    "\tplt.figure(figsize=(10, 6))\n",
    "\tfor model in results:\n",
    "\t\ttime_steps = sorted(results[model].keys())\n",
    "\t\tmeans = [results[model][t][metric_name][0] for t in time_steps]\n",
    "\t\tstds = [results[model][t][metric_name][1] for t in time_steps]\n",
    "\t\tplt.errorbar(time_steps, means, yerr=stds, label=model, capsize=5)\n",
    "\tplt.xlabel('Time Step')\n",
    "\tplt.ylabel(metric_name)\n",
    "\tplt.legend()\n",
    "\tplt.title(f'{metric_name} over Time Steps')\n",
    "\tplt.show()\n",
    "\n",
    "plot_metrics(results, 'psnr')\n",
    "plot_metrics(results, 'ssim')"
   ]
  }
 ],
 "metadata": {
  "kernelspec": {
   "display_name": "Python 3",
   "language": "python",
   "name": "python3"
  },
  "language_info": {
   "codemirror_mode": {
    "name": "ipython",
    "version": 3
   },
   "file_extension": ".py",
   "mimetype": "text/x-python",
   "name": "python",
   "nbconvert_exporter": "python",
   "pygments_lexer": "ipython3",
   "version": "3.11.9"
  }
 },
 "nbformat": 4,
 "nbformat_minor": 5
}
